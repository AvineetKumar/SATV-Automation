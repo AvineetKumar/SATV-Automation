{
 "cells": [
  {
   "cell_type": "markdown",
   "metadata": {},
   "source": [
    "# Below code is an effort to Automate the SATV Manual calculation. \n",
    "\n",
    "Most often we recieve escalations regarding SATV miscalculation, which hapenned due to system issues and known bugs.\n",
    "On those times Response Management team have to calculate the SATV manually. On an avegare team members have to spend 2-3 hours calculating SATV manually.\n",
    "\n",
    "#### Problem Statement : \n",
    "Manual SATV calculations are prone to mistakes/miscalculation resulting in wrong interpretation of SATV enetitlement at a cost of 2 hours per agreement.\n",
    "\n",
    "#### Solution :\n",
    "We have created a Python Based solution which will automate all the manual processes used for SATV calculation.\n",
    "\n",
    "#### Impact :\n",
    "Precise and Time saving\n",
    "\n",
    "#### Assumptions : \n",
    "Agreement Invoiced purchase data pulled out from EMCcore and saved in a current working directory.\n",
    "\n",
    "#### Feature Addition :\n",
    "    1) Logic for Licenses with NON pool will also be incorporated for SATV Calculation.\n",
    "    2) Code optimization.\n",
    "    3) Automating manual part of Planning Services and 24*7 PRS calculation.\n",
    "    \n",
    "#### We have used EA# 8507528 INC21546675 for testing"
   ]
  },
  {
   "cell_type": "code",
   "execution_count": 1,
   "metadata": {},
   "outputs": [],
   "source": [
    "# function to insert Threshold as per License Count\n",
    "\n",
    "def threshold(LicenseCount):\n",
    "    if 1 <= LicenseCount <= 249:\n",
    "        return(\"1 to 249\")\n",
    "    elif 250 <= LicenseCount <= 2399:\n",
    "        return(\"250 to 2399\")\n",
    "    elif 2400 <= LicenseCount <= 5999:\n",
    "        return(\"2400 to 5999\")\n",
    "    elif 6000 <= LicenseCount <= 14999:\n",
    "        return(\"6000 to 14999\")\n",
    "    elif 15000 <= LicenseCount <= 29999:\n",
    "        return(\"15000 to 29999\")\n",
    "    elif 30000 <= LicenseCount <= 49999:\n",
    "        return(\"30000 to 49999\")\n",
    "    elif 50000 <= LicenseCount <= 99999:\n",
    "        return(\"50000 to 99999\")\n",
    "    elif 100000 <= LicenseCount <= 199999:\n",
    "        return(\"100000 to 199999\")\n",
    "    elif 200000 <= LicenseCount <= 399999:\n",
    "        return(\"200000 to 399999\")\n",
    "    elif 400000 <= LicenseCount <= 599999:\n",
    "        return(\"400000 to 599999\")\n",
    "    else:\n",
    "        return(\"600000+\")"
   ]
  },
  {
   "cell_type": "code",
   "execution_count": 2,
   "metadata": {},
   "outputs": [],
   "source": [
    "# function to insert TV Days as per APP pool threshold\n",
    "\n",
    "def caltvdaysapp(LicenseCount):\n",
    "    if 1 <= LicenseCount <= 249:\n",
    "        return int(round(2*(LicenseCount/50)))\n",
    "    elif 250 <= LicenseCount <= 2399:\n",
    "        return 20\n",
    "    elif 2400 <= LicenseCount <= 5999:\n",
    "        return 30\n",
    "    elif 6000 <= LicenseCount <= 14999:\n",
    "        return 50\n",
    "    elif 15000 <= LicenseCount <= 29999:\n",
    "        return 110\n",
    "    elif 30000 <= LicenseCount <= 49999:\n",
    "        return 160\n",
    "    elif 50000 <= LicenseCount <= 99999:\n",
    "        return 250\n",
    "    elif 100000 <= LicenseCount <= 199999:\n",
    "        return 400\n",
    "    elif 200000 <= LicenseCount <= 399999:\n",
    "        return 600\n",
    "    elif 400000 <= LicenseCount <= 599999:\n",
    "        return 800\n",
    "    else:\n",
    "        return 1400"
   ]
  },
  {
   "cell_type": "code",
   "execution_count": 3,
   "metadata": {},
   "outputs": [],
   "source": [
    "# function to insert TV Days as per SYS pool threshold\n",
    "\n",
    "def caltvdayssys(LicenseCount):\n",
    "    if 1 <= LicenseCount <= 249:\n",
    "        return int(round(1*(LicenseCount/50)))\n",
    "    elif 250 <= LicenseCount <= 2399:\n",
    "        return 10\n",
    "    elif 2400 <= LicenseCount <= 5999:\n",
    "        return 15\n",
    "    elif 6000 <= LicenseCount <= 14999:\n",
    "        return 25\n",
    "    elif 15000 <= LicenseCount <= 29999:\n",
    "        return 55\n",
    "    elif 30000 <= LicenseCount <= 49999:\n",
    "        return 80\n",
    "    elif 50000 <= LicenseCount <= 99999:\n",
    "        return 125\n",
    "    elif 100000 <= LicenseCount <= 199999:\n",
    "        return 200\n",
    "    elif 200000 <= LicenseCount <= 399999:\n",
    "        return 300\n",
    "    elif 400000 <= LicenseCount <= 599999:\n",
    "        return 400\n",
    "    else:\n",
    "        return 700"
   ]
  },
  {
   "cell_type": "code",
   "execution_count": 4,
   "metadata": {},
   "outputs": [],
   "source": [
    "# Importing liberary\n",
    "import pandas as pd\n",
    "import matplotlib.pyplot as plt\n",
    "import datetime\n",
    "import pyodbc"
   ]
  },
  {
   "cell_type": "code",
   "execution_count": 5,
   "metadata": {},
   "outputs": [],
   "source": [
    "#creating connection with SQL Server to pull data\n",
    "\n",
    "connection = pyodbc.connect(\"Driver={SQL Server Native Client 11.0};\"\n",
    "                      \"Server=emccore.partners.extranet.microsoft.com;\"\n",
    "                      \"Database=warehouse;\"\n",
    "                      \"Trusted_Connection=yes;\")\n",
    "\n",
    "# Query for getting SA-Training Vouchers eligible purchases for an agreement\n",
    "# Note : Please enter agreement number in question e.g. for this case 8507528\n",
    "\n",
    "query = \"\"\"SELECT \n",
    "AGR.AgreementNumber, AGR.StartEffectiveDate, AGR.EndEffectiveDate,\n",
    "POLI.SAMStatusCode, POLI.CoveragePeriodStartDate, POLI.CoveragePeriodEndDate, PO.PurchaseOrderNumber,POLI.PartNumber, ITEM.ProductFamilyCode,\n",
    "ITEM.ProductFamilyName, POLI.ExtendedLicenseCount,POLineItemStatusCode, POLI.LastModifiedDate,ITEM.PoolCode, \n",
    "POLI.LastRefreshDate,  ITEM.ProductTypeCode\n",
    "FROM Warehouse.dbo.AgreementBase AGR WITH (NOLOCK) \n",
    "INNER JOIN Warehouse.dbo.PurchaseOrderLineItemBase POLI WITH (NOLOCK) ON AGR.AgreementKey = POLI.AgreementKey\n",
    "INNER JOIN Warehouse.dbo.Item ITEM WITH (NOLOCK) ON POLI.ItemKey = ITEM.ItemKey\n",
    "INNER JOIN Warehouse.dbo.PurchaseOrderBase PO WITH (NOLOCK) ON PO.PurchaseOrderID = POLI.PurchaseOrderID\n",
    "WHERE AGR.AgreementNumber = '8507528'\n",
    "AND POLI.POLineItemStatusCode IN ('PLI','PLS')\n",
    "AND POLI.CoveragePeriodEndDate IS NOT NULL\n",
    "AND ITEM.ProductFamilyCode IN (\n",
    "SELECT DISTINCT SUBSTRING(ParameterValue,1,3) FROM Entitlement.dbo.ControlParameter WITH (NOLOCK) WHERE ParentParameterNumber = (52100)\n",
    "UNION\n",
    "SELECT DISTINCT SUBSTRING(ParameterValue,1,3) FROM Entitlement.dbo.ControlParameter WITH (NOLOCK) WHERE ParentParameterNumber = (52300)\n",
    ")\n",
    "ORDER BY POLI.PoliUsageDate DESC,ITEM.PoolCode\"\"\"\n",
    "\n",
    "#Getting data into the dataframe for processing\n",
    "\n",
    "data = pd.read_sql_query(sql=query,con=connection)"
   ]
  },
  {
   "cell_type": "code",
   "execution_count": 6,
   "metadata": {},
   "outputs": [
    {
     "name": "stdout",
     "output_type": "stream",
     "text": [
      "\n",
      "\t\tVisualizing license count year wise and APP/SYS Pool wise\n"
     ]
    },
    {
     "data": {
      "image/png": "[encoded data removed]",
      "text/plain": [
       "<Figure size 864x360 with 1 Axes>"
      ]
     },
     "metadata": {
      "needs_background": "light"
     },
     "output_type": "display_data"
    },
    {
     "name": "stdout",
     "output_type": "stream",
     "text": [
      "\n",
      "\tSATV Eligible License count year wise: \n",
      " ----------------------------------------------------------------------------\n",
      "                                                        ExtendedLicenseCount\n",
      "CoveragePeriodStartDate CoveragePeriodEndDate PoolCode                      \n",
      "2015-10-01              2016-09-30 23:59:00   APP                      13838\n",
      "                                              SYS                      11838\n",
      "2016-10-01              2017-09-30 23:59:00   APP                      14198\n",
      "                                              SYS                      12080\n",
      "2017-10-01              2018-09-30 23:59:00   APP                      15560\n",
      "                                              SYS                      13342\n",
      "2018-10-01              2019-09-30 23:59:00   APP                         50\n"
     ]
    }
   ],
   "source": [
    "print(\"\\n\\t\\tVisualizing license count year wise and APP/SYS Pool wise\")\n",
    "data.groupby(['CoveragePeriodStartDate','CoveragePeriodEndDate','PoolCode'])['ExtendedLicenseCount'].sum().plot(kind='barh',figsize=(12,5))\n",
    "plt.show()\n",
    "#Lets see the invoiced license count year wise \n",
    "print(\"\\n\\tSATV Eligible License count year wise: \\n\",'-'*76)\n",
    "#print(data.groupby(['CoveragePeriodStartDate','CoveragePeriodEndDate','PoolCode'])['ExtendedLicenseCount'].sum())\n",
    "lcount = pd.DataFrame(data.groupby(['CoveragePeriodStartDate','CoveragePeriodEndDate','PoolCode'])['ExtendedLicenseCount'].sum())\n",
    "print(lcount)"
   ]
  },
  {
   "cell_type": "code",
   "execution_count": 7,
   "metadata": {},
   "outputs": [
    {
     "name": "stdout",
     "output_type": "stream",
     "text": [
      "\n",
      "\tCalculating SATV year wise for the Invoiced Purchases\n",
      " -----------------------------------------------------------------\n",
      "  CoveragePeriodStartDate CoveragePeriodEndDate PoolCode  TVDays\n",
      "0              2015-10-01   2016-09-30 23:59:00      APP    50.0\n",
      "1              2015-10-01   2016-09-30 23:59:00      SYS    25.0\n",
      "2              2016-10-01   2017-09-30 23:59:00      APP    50.0\n",
      "3              2016-10-01   2017-09-30 23:59:00      SYS    25.0\n",
      "4              2017-10-01   2018-09-30 23:59:00      APP   110.0\n",
      "5              2017-10-01   2018-09-30 23:59:00      SYS    25.0\n",
      "6              2018-10-01   2019-09-30 23:59:00      APP     2.0 \n",
      "\n",
      "Agreement is of 5 Year duration, Start Date/End was 2015-10-01 00:00:00 / 2020-09-30 23:59:00 respectively\n",
      "\n",
      "Currently agreement is in 4th year previous term eligibility was 135 days,current term eligibility is 2 days\n",
      "\n",
      "Hence as per proration logic current Eligibility is:  135.66666666666666\n"
     ]
    }
   ],
   "source": [
    "# Data processing to calculate the TV Eligibility\n",
    "datagp = data.groupby(by=['CoveragePeriodStartDate','CoveragePeriodEndDate','PoolCode'])\n",
    "datapool = pd.DataFrame(datagp.ExtendedLicenseCount.sum())\n",
    "datapool['Threshold']=datapool.ExtendedLicenseCount.apply(threshold)\n",
    "datapool.reset_index(inplace=True)\n",
    "datapool.loc[datapool.PoolCode=='APP','TVDays'] = datapool.ExtendedLicenseCount.apply(caltvdaysapp)\n",
    "datapool.loc[datapool.PoolCode=='SYS','TVDays'] = datapool.ExtendedLicenseCount.apply(caltvdayssys)\n",
    "gp = datapool.groupby(['CoveragePeriodStartDate','CoveragePeriodEndDate','PoolCode'])\n",
    "print(\"\\n\\tCalculating SATV year wise for the Invoiced Purchases\\n\",'-'*65)\n",
    "result = pd.DataFrame(gp.TVDays.sum())\n",
    "result.reset_index(inplace=True)\n",
    "print(result,\"\\n\")\n",
    "prevtotal = int(result.iloc[4:6,3].sum()) #previous year eligibility\n",
    "currtotal = int(result.iloc[6,3].sum()) #current year eligibility\n",
    "agmlength = int((data.EndEffectiveDate[0] - data.StartEffectiveDate[0]).days/365)\n",
    "asondate = int((data.EndEffectiveDate[0] - datetime.datetime.now()).days/365)\n",
    "curr = agmlength - asondate\n",
    "print(\"Agreement is of {} Year duration, Start Date/End was {} / {} respectively\\n\".format(agmlength,data.StartEffectiveDate[0],data.EndEffectiveDate[0]))\n",
    "if int((data.EndEffectiveDate[0] - datetime.datetime.now()).days/365) == 1:\n",
    "    print(\"Currently agreement is in 4th year previous term eligibility was {} days,current term eligibility is {} days\\n\".format(prevtotal,currtotal))\n",
    "    print(\"Hence as per proration logic current Eligibility is: \", prevtotal+(currtotal*(1/3)))\n",
    "elif int((data.EndEffectiveDate[0] - data.StartEffectiveDate[0]).days/365) == 0:\n",
    "    print(\"Agreement is in 5th year:\\n\")\n",
    "    print(\"Hence as per proration logic current Eligibility is: \", prevtotal+(currtotal*(2/3)))\n",
    "else:\n",
    "    pass\n",
    "    #print(gp.TVDays.sum())"
   ]
  }
 ],
 "metadata": {
  "kernelspec": {
   "display_name": "Python 3",
   "language": "python",
   "name": "python3"
  },
  "language_info": {
   "codemirror_mode": {
    "name": "ipython",
    "version": 3
   },
   "file_extension": ".py",
   "mimetype": "text/x-python",
   "name": "python",
   "nbconvert_exporter": "python",
   "pygments_lexer": "ipython3",
   "version": "3.8.3"
  }
 },
 "nbformat": 4,
 "nbformat_minor": 2
}
